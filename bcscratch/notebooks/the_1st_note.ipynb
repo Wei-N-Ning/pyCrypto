{
 "cells": [
  {
   "cell_type": "markdown",
   "id": "b1bfc39b",
   "metadata": {},
   "source": [
    "# The First Note"
   ]
  },
  {
   "cell_type": "markdown",
   "id": "6e6a8672",
   "metadata": {},
   "source": []
  },
  {
   "cell_type": "markdown",
   "id": "a219cda6",
   "metadata": {},
   "source": []
  },
  {
   "cell_type": "markdown",
   "id": "256133dc",
   "metadata": {},
   "source": []
  },
  {
   "cell_type": "markdown",
   "id": "7b5e37ae",
   "metadata": {},
   "source": []
  }
 ],
 "metadata": {
  "kernelspec": {
   "display_name": "Learn Blockchain By Building One",
   "language": "python",
   "name": "python3"
  },
  "language_info": {
   "codemirror_mode": {
    "name": "ipython",
    "version": 3
   },
   "file_extension": ".py",
   "mimetype": "text/x-python",
   "name": "python",
   "nbconvert_exporter": "python",
   "pygments_lexer": "ipython3",
   "version": "3.8.1"
  }
 },
 "nbformat": 4,
 "nbformat_minor": 5
}
